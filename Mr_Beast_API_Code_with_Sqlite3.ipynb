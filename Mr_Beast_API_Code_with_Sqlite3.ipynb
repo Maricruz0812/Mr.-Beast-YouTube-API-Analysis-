{
  "nbformat": 4,
  "nbformat_minor": 0,
  "metadata": {
    "colab": {
      "provenance": []
    },
    "kernelspec": {
      "name": "python3",
      "display_name": "Python 3"
    },
    "language_info": {
      "name": "python"
    }
  },
  "cells": [
    {
      "cell_type": "code",
      "source": [
        "# Install and import packages\n",
        "from googleapiclient.discovery import build\n",
        "from dateutil import parser\n",
        "import pandas as pd\n",
        "from IPython.display import JSON\n",
        "\n",
        "# Data visualization packages\n",
        "import seaborn as sns\n",
        "import matplotlib.pyplot as plt\n",
        "import matplotlib.ticker as ticker\n",
        "\n",
        "# Natual language processing packages\n",
        "# Natural Language Toolkit\n",
        "import nltk\n",
        "# Stop words are words that you want to ignore, and can be filtered out\n",
        "from nltk.corpus import stopwords\n",
        "# Tokenizing allows you to split up text by word or by sentence\n",
        "from nltk.tokenize import word_tokenize\n",
        "nltk.download('stopwords')\n",
        "nltk.download('punkt')\n",
        "# Wordcloud is a technique to show which words are the most frequent in a given text\n",
        "from wordcloud import WordCloud"
      ],
      "metadata": {
        "colab": {
          "base_uri": "https://localhost:8080/"
        },
        "id": "BR6xlTFzvy4d",
        "outputId": "248160b6-b68d-440a-e839-4756b5cfd1fa"
      },
      "execution_count": null,
      "outputs": [
        {
          "output_type": "stream",
          "name": "stderr",
          "text": [
            "[nltk_data] Downloading package stopwords to /root/nltk_data...\n",
            "[nltk_data]   Unzipping corpora/stopwords.zip.\n",
            "[nltk_data] Downloading package punkt to /root/nltk_data...\n",
            "[nltk_data]   Unzipping tokenizers/punkt.zip.\n"
          ]
        }
      ]
    },
    {
      "cell_type": "code",
      "execution_count": null,
      "metadata": {
        "id": "lmRRMhEPItDv"
      },
      "outputs": [],
      "source": [
        "# YouTube API key\n",
        "api_key = 'YouTube API Key'\n",
        "\n",
        "# List of Popular YouTube Channels for Kids\n",
        "channel_ids = [\n",
        "           'UCX6OQ3DkcsbYNE6H8uQQuVA'  # Mr Beast\n",
        "            ]\n",
        "\n",
        "# List of Playlist IDs for each channel\n",
        "playlist_ids = [\n",
        "             \"UUX6OQ3DkcsbYNE6H8uQQuVA\"\n",
        "            ]\n",
        "\n",
        "\n",
        "# Create the YouTube API client\n",
        "youtube = build('youtube', 'v3', developerKey=api_key)\n",
        "\n",
        "# Function to get video IDs from playlists\n",
        "def get_video_ids(youtube, playlist_ids):\n",
        "    all_video_ids = []\n",
        "\n",
        "    for playlist_id in playlist_ids:\n",
        "        request = youtube.playlistItems().list(\n",
        "            part=\"contentDetails\",\n",
        "            playlistId=playlist_id,\n",
        "            maxResults=50\n",
        "        )\n",
        "        response = request.execute()\n",
        "\n",
        "        for item in response['items']:\n",
        "            video_id = item['contentDetails']['videoId']\n",
        "            all_video_ids.append(video_id)\n",
        "\n",
        "    return all_video_ids\n",
        "\n",
        "# Function to get channel stats\n",
        "def get_channel_stats(youtube, channel_ids):\n",
        "    all_data = []\n",
        "\n",
        "    request = youtube.channels().list(\n",
        "        part=\"snippet,contentDetails,statistics\",\n",
        "        id=','.join(channel_ids)\n",
        "    )\n",
        "    response = request.execute()\n",
        "\n",
        "    for item in response['items']:\n",
        "        data = {\n",
        "            'channelName': item['snippet']['title'],\n",
        "            'subscribers': item['statistics']['subscriberCount'],\n",
        "            'views': item['statistics']['viewCount'],\n",
        "            'totalVideos': item['statistics']['videoCount'],\n",
        "            'playlistId': item['contentDetails']['relatedPlaylists']['uploads']\n",
        "        }\n",
        "\n",
        "        all_data.append(data)\n",
        "\n",
        "    return pd.DataFrame(all_data)\n",
        "\n",
        "# Function to get video details\n",
        "def get_video_details(youtube, video_ids):\n",
        "    all_video_info = []\n",
        "\n",
        "    for i in range(0, len(video_ids), 50):\n",
        "        request = youtube.videos().list(\n",
        "            part=\"snippet,contentDetails,statistics\",\n",
        "            id=','.join(video_ids[i:i+50])\n",
        "        )\n",
        "        response = request.execute()\n",
        "\n",
        "        for video in response['items']:\n",
        "            stats_to_keep = {\n",
        "                'snippet': ['channelTitle', 'title', 'description', 'tags', 'publishedAt'],\n",
        "                'statistics': ['viewCount', 'likeCount', 'favoriteCount', 'commentCount'],\n",
        "                'contentDetails': ['definition', 'caption']\n",
        "            }\n",
        "            video_info = {'video_id': video['id']}\n",
        "\n",
        "            for k in stats_to_keep.keys():\n",
        "                for v in stats_to_keep[k]:\n",
        "                    try:\n",
        "                        video_info[v] = video[k][v]\n",
        "                    except:\n",
        "                        video_info[v] = None\n",
        "\n",
        "            all_video_info.append(video_info)\n",
        "\n",
        "    return pd.DataFrame(all_video_info)\n",
        "\n",
        "# Get video IDs from playlists\n",
        "video_ids = get_video_ids(youtube, playlist_ids)\n",
        "\n",
        "# Get channel statistics\n",
        "channel_df = get_channel_stats(youtube, channel_ids)\n",
        "\n",
        "# Get video details\n",
        "video_df = get_video_details(youtube, video_ids)\n",
        "\n",
        "# Rename the 'channelTitle' column in video_df to 'channelName'\n",
        "#This is done in order to merge the dataframes on a common column\n",
        "video_df.rename(columns={'channelTitle': 'channelName'}, inplace=True)\n",
        "\n",
        "# Merge the two dataframes based on a common column (e.g., channelName)\n",
        "merged_df = pd.merge(channel_df, video_df, on='channelName')\n",
        "new_df = merged_df.copy()\n",
        "\n",
        "\n",
        "# Fill missing values in 'tags' with an empty string\n",
        "#merged_df['tags'].fillna('', inplace=True)\n",
        "\n",
        "# Fill missing values in 'commentCount' with zero\n",
        "#merged_df['commentCount'].fillna(0, inplace=True)\n",
        "\n",
        "# Check for missing values in the merged dataframe\n",
        "#missing_values = merged_df.isnull().sum()\n",
        "#print(missing_values)\n",
        "\n",
        "new_df['subscribers'] = new_df['subscribers'].astype(float)\n",
        "new_df['views'] = new_df['views'].astype(float)\n",
        "new_df['totalVideos'] = new_df['totalVideos'].astype(float)\n",
        "\n",
        "new_df['subscribers'] = new_df['subscribers'].apply(lambda x: '{:,}'.format(x))\n",
        "new_df['views'] = new_df['views'].apply(lambda x: '{:,}'.format(x))\n",
        "new_df['totalVideos'] = new_df['totalVideos'].apply(lambda x: '{:,}'.format(x))\n",
        "\n",
        "\n",
        "# Clean the data if necessary\n",
        "def merged_df(df):\n",
        "    # Convert numeric columns to appropriate data types\n",
        "    df['subscribers'] = pd.to_numeric(df['subscribers'])\n",
        "    df['views'] = pd.to_numeric(df['views'])\n",
        "    df['totalVideos'] = pd.to_numeric(df['totalVideos'])\n",
        "\n",
        "    # Convert publishedAt to datetime\n",
        "    df['publishedAt'] = pd.to_datetime(df['publishedAt'])\n",
        "    df['duration'] = pd.to_datetime(df['duration'])\n",
        "\n",
        "    # Remove unnecessary characters from tags and convert to lowercase\n",
        "    df['tags'] = df['tags'].str.lower().str.replace(r'[^\\w\\s]', '')\n",
        "\n",
        "    # Remove stopwords from description and title\n",
        "    stop_words = set(stopwords.words('english'))\n",
        "    df['description'] = df['description'].apply(remove_stopwords)\n",
        "    df['title'] = df['title'].apply(remove_stopwords)\n",
        "\n",
        "\n",
        "    return df\n",
        "\n",
        "# Convert columns to float64\n",
        "#non_numeric_subscribers = pd.to_numeric(new_df['subscribers'], errors='coerce').isna()\n",
        "#non_numeric_views = pd.to_numeric(new_df['views'], errors='coerce').isna()\n",
        "#non_numeric_subscribers = pd.to_numeric(new_df['totalVideos'], errors='coerce').isna()\n",
        "\n",
        "#print(new_df.loc[non_numeric_subscribers, 'subscribers'])\n",
        "#print(new_df.loc[non_numeric_views, 'views'])\n",
        "#print(new_df.loc[non_numeric_subscribers, 'totalVideos'])\n",
        "\n",
        "new_df['subscribers'] = new_df['subscribers'].str.replace(',', '').astype(float)\n",
        "new_df['views'] = new_df['views'].str.replace(',', '').astype(float)\n",
        "new_df['totalVideos'] = new_df['totalVideos'].str.replace(',', '').astype(float)\n",
        "\n",
        "\n"
      ]
    },
    {
      "cell_type": "code",
      "source": [
        "print(new_df.dtypes)"
      ],
      "metadata": {
        "colab": {
          "base_uri": "https://localhost:8080/"
        },
        "id": "Ao35QvwrxNvA",
        "outputId": "35cd4fc1-8ee8-4545-fced-6209c8e8967a"
      },
      "execution_count": null,
      "outputs": [
        {
          "output_type": "stream",
          "name": "stdout",
          "text": [
            "channelName       object\n",
            "subscribers      float64\n",
            "views            float64\n",
            "totalVideos      float64\n",
            "playlistId        object\n",
            "video_id          object\n",
            "title             object\n",
            "description       object\n",
            "tags              object\n",
            "publishedAt       object\n",
            "viewCount         object\n",
            "likeCount         object\n",
            "favoriteCount     object\n",
            "commentCount      object\n",
            "definition        object\n",
            "caption           object\n",
            "dtype: object\n"
          ]
        }
      ]
    },
    {
      "cell_type": "code",
      "source": [
        "# Install sqlite3 module (if not already installed)\n",
        "!pip install pysqlite3\n",
        "\n",
        "# Import sqlite3 module\n",
        "import sqlite3"
      ],
      "metadata": {
        "colab": {
          "base_uri": "https://localhost:8080/"
        },
        "id": "bZhRvqfxOxBK",
        "outputId": "e75ad8d4-63a2-4979-a775-b0d4b4438d84"
      },
      "execution_count": null,
      "outputs": [
        {
          "output_type": "stream",
          "name": "stdout",
          "text": [
            "Collecting pysqlite3\n",
            "  Downloading pysqlite3-0.5.1.tar.gz (40 kB)\n",
            "\u001b[2K     \u001b[90m━━━━━━━━━━━━━━━━━━━━━━━━━━━━━━━━━━━━━━━━\u001b[0m \u001b[32m40.6/40.6 kB\u001b[0m \u001b[31m1.3 MB/s\u001b[0m eta \u001b[36m0:00:00\u001b[0m\n",
            "\u001b[?25h  Preparing metadata (setup.py) ... \u001b[?25l\u001b[?25hdone\n",
            "Building wheels for collected packages: pysqlite3\n",
            "  Building wheel for pysqlite3 (setup.py) ... \u001b[?25l\u001b[?25hdone\n",
            "  Created wheel for pysqlite3: filename=pysqlite3-0.5.1-cp310-cp310-linux_x86_64.whl size=151103 sha256=c185547c3da7386a7aaed74af8eced282ae1623587e08b62957b49afc7c78774\n",
            "  Stored in directory: /root/.cache/pip/wheels/ed/1d/da/4bb79a0c7885888c6be9e31dad7ebd3b47b023be60469fd74d\n",
            "Successfully built pysqlite3\n",
            "Installing collected packages: pysqlite3\n",
            "Successfully installed pysqlite3-0.5.1\n"
          ]
        }
      ]
    },
    {
      "cell_type": "code",
      "source": [
        "# Connect to the SQLite database\n",
        "conn = sqlite3.connect('your_database.db')\n",
        "\n",
        "# Create a cursor object\n",
        "cursor = conn.cursor()\n",
        "\n",
        "# Define the CREATE TABLE query\n",
        "#create_table_query = '''\n",
        "#CREATE TABLE youtube_creators (\n",
        "    #channelName TEXT,\n",
        "    #subscribers REAL,\n",
        "    #views REAL,\n",
        "    #totalVideos REAL,\n",
        "    #playlistId TEXT,\n",
        "    #video_id TEXT,\n",
        "    #title TEXT,\n",
        "    #description TEXT,\n",
        "    #tags TEXT,\n",
        "    #publishedAt TEXT,\n",
        "    #viewCount TEXT,\n",
        "    #likeCount TEXT,\n",
        "    #favoriteCount TEXT,\n",
        "    #commentCount TEXT,\n",
        "    #duration TEXT,\n",
        "    #definition TEXT,\n",
        "    #caption TEXT\n",
        "#);\n",
        "#'''\n",
        "\n",
        "# Execute the CREATE TABLE query\n",
        "#cursor.execute(create_table_query)\n"
      ],
      "metadata": {
        "id": "ARvkBoo7NU1E"
      },
      "execution_count": null,
      "outputs": []
    },
    {
      "cell_type": "code",
      "source": [
        "# Convert tags from list to string\n",
        "new_df['tags'] = new_df['tags'].apply(lambda x: ','.join(x) if isinstance(x, list) else '')\n",
        "\n",
        "# Write the data to the SQLite table\n",
        "new_df.to_sql('youtube_creators', conn, if_exists='append', index=False)\n",
        "\n"
      ],
      "metadata": {
        "colab": {
          "base_uri": "https://localhost:8080/"
        },
        "id": "9eXYFFl-VCY5",
        "outputId": "25d23d93-a5a0-4deb-c8c4-f363c56a74ca"
      },
      "execution_count": null,
      "outputs": [
        {
          "output_type": "execute_result",
          "data": {
            "text/plain": [
              "50"
            ]
          },
          "metadata": {},
          "execution_count": 7
        }
      ]
    },
    {
      "cell_type": "code",
      "source": [
        "# Execute a query to fetch data from the table\n",
        "cursor = conn.cursor()\n",
        "cursor.execute(\"SELECT * FROM youtube_creators LIMIT 10\")\n",
        "data = cursor.fetchall()\n",
        "\n",
        "# Print the fetched data\n",
        "for row in data:\n",
        "    print(row)"
      ],
      "metadata": {
        "colab": {
          "base_uri": "https://localhost:8080/"
        },
        "id": "ejAt3MkYVK8k",
        "outputId": "a232252d-f94a-4241-9c02-5a90fd04fa6e"
      },
      "execution_count": null,
      "outputs": [
        {
          "output_type": "stream",
          "name": "stdout",
          "text": [
            "('MrBeast', 173000000.0, 29527785603.0, 741.0, 'UUX6OQ3DkcsbYNE6H8uQQuVA', 'CP82DAKzL1U', 'I Traded My Car At a Red Light', '', '', '2023-07-15T17:00:01Z', '142027023', '8594904', '0', '17930', 'hd', 'false')\n",
            "('MrBeast', 173000000.0, 29527785603.0, 741.0, 'UUX6OQ3DkcsbYNE6H8uQQuVA', 'fuhE6PYnRMc', 'Train Vs Giant Pit', \"Go buy my merch at https://mrbeast.store and if you're looking to set up an online store, it should be on a .Store domain. Thanks for sponsoring this video!\\n\\nThank you to Warped Perception for helping with Jet Car https://www.youtube.com/@WarpedPerception\\n\\n Fireworks provided by https://americanwholesalefireworks.com/ \\nand https://www.PyroStarentertainment.com/\\n\\nSUBSCRIBE OR I TAKE YOUR DOG\\n╔═╦╗╔╦╗╔═╦═╦╦╦╦╗╔═╗\\n║╚╣║║║╚╣╚╣╔╣╔╣║╚╣═╣ \\n╠╗║╚╝║║╠╗║╚╣║║║║║═╣\\n╚═╩══╩═╩═╩═╩╝╚╩═╩═╝\\n\\n----------------------------------------------------------------\\nfollow all of these or i will kick you\\n• Facebook - https://www.facebook.com/MrBeast6000/\\n• Twitter - https://twitter.com/MrBeast\\n•  Instagram - https://www.instagram.com/mrbeast\\n•  Im Hiring! - https://www.mrbeastjobs.com/\\n--------------------------------------------------------------------\", '', '2023-07-08T16:00:00Z', '125697430', '5187699', '0', '134212', 'hd', 'true')\n",
            "('MrBeast', 173000000.0, 29527785603.0, 741.0, 'UUX6OQ3DkcsbYNE6H8uQQuVA', 'stUofW3whpE', 'I Buried Treasure in the Bermuda Triangle', '', '', '2023-07-06T17:00:01Z', '104040133', '8178665', '0', '17161', 'hd', 'false')\n",
            "('MrBeast', 173000000.0, 29527785603.0, 741.0, 'UUX6OQ3DkcsbYNE6H8uQQuVA', '48h57PspBec', '$1 vs $1,000,000,000 Yacht!', 'Buy Feastables anywhere to get a secret MrBeast video: https://bit.ly/_feastables\\n\\n\\nGo watch Pete Davidson\\'s new show \"Bupkis\" now live on Peacock!\"\\nhttps://youtu.be/2x6h2VJ_m-c\\n\\nCheck out the all new \"Icon of the Seas\" coming 2024: https://bit.ly/Icon_OfThe_Seas\\n\\nAlso, check out the ship Harmony of the Seas which is actually 18 floors, not 17! https://bit.ly/Harmony_OfThe_Seas\\n\\nNew Merch - https://mrbeast.store\\n\\nSUBSCRIBE OR I TAKE YOUR DOG\\n╔═╦╗╔╦╗╔═╦═╦╦╦╦╗╔═╗\\n║╚╣║║║╚╣╚╣╔╣╔╣║╚╣═╣ \\n╠╗║╚╝║║╠╗║╚╣║║║║║═╣\\n╚═╩══╩═╩═╩═╩╝╚╩═╩═╝\\n\\n----------------------------------------------------------------\\nfollow all of these or i will kick you\\n• Facebook - https://www.facebook.com/MrBeast6000/\\n• Twitter - https://twitter.com/MrBeast\\n•  Instagram - https://www.instagram.com/mrbeast\\n•  Im Hiring! - https://www.mrbeastjobs.com/\\n--------------------------------------------------------------------', '', '2023-06-10T16:00:00Z', '188933078', '5441542', '0', '142236', 'hd', 'true')\n",
            "('MrBeast', 173000000.0, 29527785603.0, 741.0, 'UUX6OQ3DkcsbYNE6H8uQQuVA', 'ooAwCOP67GQ', 'Do Pawnshops Scam You?', '', '', '2023-06-03T16:59:57Z', '119577477', '6689451', '0', '15708', 'hd', 'false')\n",
            "('MrBeast', 173000000.0, 29527785603.0, 741.0, 'UUX6OQ3DkcsbYNE6H8uQQuVA', 'FM7Z-Xq8Drc', 'Ages 1 - 100 Fight For $500,000', 'Claim a piece of MrBeast history — buy a prop in the Shop app for $0.01 https://go.shop.app/mrbeast\\n\\n\\nThanks to Lickd for providing the music for this video! Discover tracks for your YouTube videos here: https://go.lickd.co/mb1\\nTrack: Whisper by The Dear Hunter, License ID: B0yLW6gQwQ4  \\nhttps://lickd.lnk.to/EAnwiV\\n\\nAlso thank you Concept Pixel for the LED Wall,it looked great!\\n\\xa0www.conceptpixels.com\\n\\nNew Merch - https://mrbeast.store\\n\\nSUBSCRIBE OR I TAKE YOUR DOG\\n╔═╦╗╔╦╗╔═╦═╦╦╦╦╗╔═╗\\n║╚╣║║║╚╣╚╣╔╣╔╣║╚╣═╣ \\n╠╗║╚╝║║╠╗║╚╣║║║║║═╣\\n╚═╩══╩═╩═╩═╩╝╚╩═╩═╝\\n\\n----------------------------------------------------------------\\nfollow all of these or i will kick you\\n• Facebook - https://www.facebook.com/MrBeast6000/\\n• Twitter - https://twitter.com/MrBeast\\n•  Instagram - https://www.instagram.com/mrbeast\\n•  Im Hiring! - https://www.mrbeastjobs.com/\\n--------------------------------------------------------------------', '', '2023-05-27T21:14:59Z', '187570116', '5096627', '0', '110827', 'hd', 'true')\n",
            "('MrBeast', 173000000.0, 29527785603.0, 741.0, 'UUX6OQ3DkcsbYNE6H8uQQuVA', 'WTOm65IZneg', '1,000 Deaf People Hear For The First Time', 'Your support gives the Gift of Hearing.  Please click here!\\nhttps://hearingthecall.org/give/\\n\\nSIGN LANGUAGE RESOURCES\\n\\nBANGLADESH https://parakerja.co.id/home/\\n\\nGUATEMALA https://www.lavosi-gua.org/\\n\\nINDIA https://vaani.in/\\n\\nINDONESIA https://parakerja.co.id/home/\\n\\nKENYA https://www.dekkenya.org/\\n\\nMEXICO https://ac.ijd.org.mx/\\n\\nMEXICO https://www.eeesma.com/\\n\\nUNITED STATES https://www.asd-1817.org/\\n\\nUNITED STATES https://deafchildren.org/\\n\\nZAMBIA https://www.facebook.com/zambiadeafyouthwomen/\\n\\nThanks to Lickd for providing the music for this video! Discover tracks for your YouTube videos here:\\xa0https://go.lickd.co/mb1\\n\\nTrack: Experience by Ludovico Einaudi,\\xa0License ID:\\xa0pbgGZ73AmAD\\xa0\\xa0https://lickd.lnk.to/RFrtufyY\\nTrack: Wang Family Portrait by Son Lux, License ID:\\xa02zokxZGpPyn\\xa0\\xa0https://lickd.lnk.to/A2glpE\\n\\nNew Merch - https://mrbeast.store\\n\\nSUBSCRIBE OR I TAKE YOUR DOG\\n╔═╦╗╔╦╗╔═╦═╦╦╦╦╗╔═╗\\n║╚╣║║║╚╣╚╣╔╣╔╣║╚╣═╣ \\n╠╗║╚╝║║╠╗║╚╣║║║║║═╣\\n╚═╩══╩═╩═╩═╩╝╚╩═╩═╝\\n\\n----------------------------------------------------------------\\nfollow all of these or i will kick you\\n• Facebook - https://www.facebook.com/MrBeast6000/\\n• Twitter - https://twitter.com/MrBeast\\n•  Instagram - https://www.instagram.com/mrbeast\\n•  Im Hiring! - https://www.mrbeastjobs.com/\\n--------------------------------------------------------------------', '', '2023-05-06T19:59:59Z', '104198329', '4727984', '0', '158891', 'hd', 'true')\n",
            "('MrBeast', 173000000.0, 29527785603.0, 741.0, 'UUX6OQ3DkcsbYNE6H8uQQuVA', '8kggT2ej-lo', 'Would You Pet a Cheetah in Africa?', '', '', '2023-05-01T20:00:02Z', '241163676', '12034560', '0', '36275', 'hd', 'false')\n",
            "('MrBeast', 173000000.0, 29527785603.0, 741.0, 'UUX6OQ3DkcsbYNE6H8uQQuVA', 'GGBy50KtvRk', 'Tipping A Waitress A Car', 'New Merch - https://shopmrbeast.com/\\n\\nSUBSCRIBE OR I TAKE YOUR DOG\\n╔═╦╗╔╦╗╔═╦═╦╦╦╦╗╔═╗\\n║╚╣║║║╚╣╚╣╔╣╔╣║╚╣═╣ \\n╠╗║╚╝║║╠╗║╚╣║║║║║═╣\\n╚═╩══╩═╩═╩═╩╝╚╩═╩═╝\\n\\n----------------------------------------------------------------\\nfollow all of these or i will kick you\\n• Facebook - https://www.facebook.com/MrBeast6000/\\n• Twitter - https://twitter.com/MrBeast\\n•  Instagram - https://www.instagram.com/mrbeast\\n•  Im Hiring! - https://www.mrbeastjobs.com/\\n--------------------------------------------------------------------', '', '2023-04-22T20:00:00Z', '167625043', '10616017', '0', '29199', 'hd', 'false')\n",
            "('MrBeast', 173000000.0, 29527785603.0, 741.0, 'UUX6OQ3DkcsbYNE6H8uQQuVA', 'Y4-gFIfGXiQ', 'Would you go on a Blind Date in Italy?', '', '', '2023-04-15T20:00:01Z', '203313854', '11436885', '0', '16867', 'hd', 'false')\n"
          ]
        }
      ]
    },
    {
      "cell_type": "code",
      "source": [
        "# Execute a query to fetch the list of tables\n",
        "cursor.execute(\"SELECT name FROM sqlite_master WHERE type='table';\")\n",
        "\n",
        "# Fetch all the results\n",
        "tables = cursor.fetchall()\n",
        "\n",
        "# Print the tables\n",
        "for table in tables:\n",
        "    print(table[0])\n"
      ],
      "metadata": {
        "id": "QZfHUpf5Nqzt",
        "colab": {
          "base_uri": "https://localhost:8080/"
        },
        "outputId": "9d697723-7852-43b8-debe-831230db645e"
      },
      "execution_count": null,
      "outputs": [
        {
          "output_type": "stream",
          "name": "stdout",
          "text": [
            "youtube_creators\n"
          ]
        }
      ]
    },
    {
      "cell_type": "code",
      "source": [
        "# Execute a query to fetch the table's schema or column names\n",
        "cursor.execute(\"PRAGMA table_info(youtube_creators)\")\n",
        "\n",
        "# Fetch all the column names\n",
        "columns = [column[1] for column in cursor.fetchall()]\n",
        "\n",
        "# Print the column names\n",
        "print(columns)"
      ],
      "metadata": {
        "colab": {
          "base_uri": "https://localhost:8080/"
        },
        "id": "WD893oVuPf82",
        "outputId": "8e228547-67b7-4013-d064-5fa9cc55cbdb"
      },
      "execution_count": null,
      "outputs": [
        {
          "output_type": "stream",
          "name": "stdout",
          "text": [
            "['channelName', 'subscribers', 'views', 'totalVideos', 'playlistId', 'video_id', 'title', 'description', 'tags', 'publishedAt', 'viewCount', 'likeCount', 'favoriteCount', 'commentCount', 'definition', 'caption']\n"
          ]
        }
      ]
    },
    {
      "cell_type": "code",
      "source": [
        "#Channel Performance Analysis:\n",
        "\n",
        "# Query: Which channel has the highest number of subscribers?\n",
        "query1 = \"SELECT channelName, subscribers FROM youtube_creators ORDER BY subscribers DESC LIMIT 1\"\n",
        "cursor.execute(query1)\n",
        "result1 = cursor.fetchall()\n",
        "print(\"Channel with the highest number of subscribers:\", result1)\n",
        "\n",
        "# Query: Which channel has the highest number of views?\n",
        "query2 = \"SELECT channelName, views FROM youtube_creators ORDER BY views DESC LIMIT 1\"\n",
        "cursor.execute(query2)\n",
        "result2 = cursor.fetchall()\n",
        "print(\"Channel with the highest number of views:\", result2)\n",
        "\n",
        "# Query: Which channel has the highest number of videos?\n",
        "query3 = \"SELECT channelName, totalVideos FROM youtube_creators ORDER BY totalVideos DESC LIMIT 1\"\n",
        "cursor.execute(query3)\n",
        "result3 = cursor.fetchall()\n",
        "print(\"Channel with the highest number of videos:\", result3)\n",
        "\n"
      ],
      "metadata": {
        "colab": {
          "base_uri": "https://localhost:8080/"
        },
        "id": "QO9H3FLnWolc",
        "outputId": "84463d92-44cf-48e4-9258-4e23902e0960"
      },
      "execution_count": null,
      "outputs": [
        {
          "output_type": "stream",
          "name": "stdout",
          "text": [
            "Channel with the highest number of subscribers: [('MrBeast', 173000000.0)]\n",
            "Channel with the highest number of views: [('MrBeast', 29527785603.0)]\n",
            "Channel with the highest number of videos: [('MrBeast', 741.0)]\n"
          ]
        }
      ]
    },
    {
      "cell_type": "code",
      "source": [
        "import sqlite3\n",
        "\n",
        "# Connect to the SQLite database\n",
        "conn = sqlite3.connect('your_database.db')\n",
        "cursor = conn.cursor()\n",
        "\n",
        "# Execute the SQL query\n",
        "query = \"\"\"\n",
        "    SELECT channelName, title, viewCount\n",
        "    FROM youtube_creators\n",
        "    ORDER BY channelName, viewCount DESC\n",
        "\"\"\"\n",
        "\n",
        "cursor.execute(query)\n",
        "\n",
        "# Fetch all the rows from the result set\n",
        "rows = cursor.fetchall()\n",
        "\n",
        "# Create a dictionary to store the top 5 videos for each YouTuber\n",
        "top_videos_data = {}\n",
        "\n",
        "# Process the rows and populate the dictionary\n",
        "for row in rows:\n",
        "    channel_name = row[0]\n",
        "    title = row[1]\n",
        "    view_count = row[2]\n",
        "\n",
        "    if channel_name not in top_videos_data:\n",
        "        top_videos_data[channel_name] = []\n",
        "\n",
        "    top_videos_data[channel_name].append({'title': title, 'views': view_count})\n",
        "\n",
        "# Close the database connection\n",
        "conn.close()\n",
        "\n",
        "# Print the top 5 videos for each YouTuber\n",
        "for channel_name, videos in top_videos_data.items():\n",
        "    print(f\"Channel: {channel_name}\")\n",
        "    for video in videos[:5]:\n",
        "        print(f\"Title: {video['title']}, Views: {video['views']}\")\n",
        "    print()\n"
      ],
      "metadata": {
        "colab": {
          "base_uri": "https://localhost:8080/"
        },
        "id": "i1b4Q044eesr",
        "outputId": "c86bc063-7111-4b4c-f372-03e5a20e49b5"
      },
      "execution_count": null,
      "outputs": [
        {
          "output_type": "stream",
          "name": "stdout",
          "text": [
            "Channel: MrBeast\n",
            "Title: Extreme $1,000,000 Hide And Seek, Views: 93348399\n",
            "Title: I Didn’t Eat Food For 30 Days, Views: 88361239\n",
            "Title: Would You Fly To Paris For A Baguette?, Views: 866648839\n",
            "Title: Giving iPhones Instead Of Candy on Halloween, Views: 789053135\n",
            "Title: $1,000,000 Influencer Tournament!, Views: 77748426\n",
            "\n"
          ]
        }
      ]
    }
  ]
}